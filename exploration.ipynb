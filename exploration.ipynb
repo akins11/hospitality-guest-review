{
  "cells": [
    {
      "cell_type": "raw",
      "metadata": {},
      "source": [
        "---\n",
        "title: Hospitality Service Guest Review\n",
        "format:\n",
        "  html:\n",
        "    theme: materia\n",
        "execute:\n",
        "  echo: false\n",
        "---"
      ],
      "id": "7e9ca02f"
    },
    {
      "cell_type": "markdown",
      "metadata": {},
      "source": [
        "Recenlty, travelers have a better sources to research and read reviews of other people's evaluation of various accomodations before making a choice, vacation rental owners now have their work cut out for them to provide the best service to their guest. This analysis will explore [airbnb](https://en.m.wikipedia.org/wiki/Airbnb)guest review on their host. Note that reviews are sent after guest checks out of a rental property.\n",
        "\n",
        "## Exploration\n",
        "Guest reviews will be explored to find frequently used words and bigrams in general and for each host, also guest sentiment score will also be explored for all host in the data. The analysis will be conducted using python and various libraries such as pandas for data manipulation, nltk for text cleaning and analysis, plotly and wordcloud for visualisation.\n"
      ],
      "id": "7f0cbc21"
    },
    {
      "cell_type": "code",
      "metadata": {},
      "source": [
        "import pandas as pd\n",
        "\n",
        "import plotly.express as px\n",
        "from plotly.subplots import make_subplots\n",
        "import plotly.graph_objects as go\n",
        "import plotly.io as pio\n",
        "pio.renderers.default = \"plotly_mimetype+notebook_connected\"\n",
        "\n",
        "import c_functions as fn"
      ],
      "id": "f1e1b031",
      "execution_count": null,
      "outputs": []
    },
    {
      "cell_type": "code",
      "metadata": {
        "message": false
      },
      "source": [
        "#| warning: false\n",
        "\n",
        "r_df = pd.read_csv(\"Airbnb-boston_only.csv\")\n",
        "\n",
        "host_names = list(r_df[\"host_name\"].unique())\n",
        "not_useful = [\"boston\", \"'s\", \"apartment\", \"n't\", \"stay\"] + host_names"
      ],
      "id": "4ab4ccee",
      "execution_count": null,
      "outputs": []
    },
    {
      "cell_type": "markdown",
      "metadata": {},
      "source": [
        "The raw guest review text will be cleaned by:  \n",
        "- converting all text to lower case.  \n",
        "- Removing all automated bots texts.  \n",
        "- Removing all punctuations and empty text.  \n",
        "- Removing all numbers, stopwords and words that do not impact the analysis.  \n",
        "- lemmatize words i.e words like recommended will be transformed to recommend.  \n"
      ],
      "id": "8fc06c33"
    },
    {
      "cell_type": "code",
      "metadata": {},
      "source": [
        "f_rv = fn.clean_review(df=r_df)\n",
        "fs_rv = fn.wrangle(df=f_rv, not_useful=not_useful)"
      ],
      "id": "27a8e1ca",
      "execution_count": null,
      "outputs": []
    },
    {
      "cell_type": "markdown",
      "metadata": {},
      "source": [
        "### Ovarall Guest Reviews"
      ],
      "id": "020abe34"
    },
    {
      "cell_type": "code",
      "metadata": {},
      "source": [
        "a_rv = fs_rv[[\"comments\", \"neg\", \"neu\", \"pos\", \"compound\", \"sentiment\", \"number_char\", \"number_words\"]]"
      ],
      "id": "55d7d0a4",
      "execution_count": null,
      "outputs": []
    },
    {
      "cell_type": "code",
      "metadata": {},
      "source": [
        "#| column: body-outset\n",
        "\n",
        "sentiment_frequency = fn.polarity_count(a_rv)\n",
        "\n",
        "plt_frq = fn.most_frequent_words(df=a_rv, gram=1, use=\"counter\", top_n=10)\n",
        "plt_frq = plt_frq.sort_values(by=\"frequency\")\n",
        "\n",
        "fn.freq_polarity_plot(\n",
        "    plt_frq, \n",
        "    sentiment_frequency, \n",
        "    \"All Guest Review\", \n",
        "    (\"Top 10 Most Used Words\", \"Sentiment Score Count\")\n",
        "    )"
      ],
      "id": "8b930d99",
      "execution_count": null,
      "outputs": []
    },
    {
      "cell_type": "markdown",
      "metadata": {},
      "source": [
        "The Top 10 most frequent words of all guest review contains words such as clean, great, nice, comfortable etc which reveals how much positive words are beign used by guest.\n",
        "<br>\n",
        "The overall sentiment summary shows that majority of the review contains neutral comments which can reinstate that the guest did not express any particular feelings or emotions. Also 45.1% of guest had positive experience of their host and accomodation, while just a fraction i.e 0.45% made negative comments.\n",
        "\n",
        "#### WordCloud of Review Words"
      ],
      "id": "dc88c01c"
    },
    {
      "cell_type": "code",
      "metadata": {},
      "source": [
        "fn.create_word_cloud(df=a_rv)"
      ],
      "id": "34978cc0",
      "execution_count": null,
      "outputs": []
    },
    {
      "cell_type": "markdown",
      "metadata": {},
      "source": [
        "From the wordcloud plot above, there is high amount of words relating to recommendations, lodgings location, accomodation tidyness and convenience and so on.\n",
        "\n",
        "\n",
        "#### Selected Positive & Negative Guest Review Words"
      ],
      "id": "6295ac1a"
    },
    {
      "cell_type": "code",
      "metadata": {},
      "source": [
        "#| column: body-outset\n",
        "\n",
        "s_words = [\"clean\", \"recommend\", \"convenient\", \"accommodate\", \"hospitable\", \"bad\", \"dirty\", \"poor\", \"disgusting\"]\n",
        "\n",
        "pres_word = fn.add_present_words(a_rv, s_words)\n",
        "\n",
        "color_map = str.rstrip(\"#0000FF \"*5).split(\" \") + str.rstrip(\"#C71585 \"*4).split(\" \")\n",
        "\n",
        "fn.plot_present_words(present_word_df=pres_word, search_words=s_words, color=color_map)"
      ],
      "id": "e01f4e57",
      "execution_count": null,
      "outputs": []
    },
    {
      "cell_type": "markdown",
      "metadata": {},
      "source": [
        "Using a selected number of positive and negative words shows that a greater percentage of guest consider their accomodation to be clean, convinient and recommendable rather than dirty, poor or bad.\n",
        "\n",
        "#### Guest Review using on Bigrams"
      ],
      "id": "37c199e3"
    },
    {
      "cell_type": "code",
      "metadata": {},
      "source": [
        "# Location\n",
        "location = [\"great location\", \"clean location\", \"awesome place\", \"excellent neighborhood\", \"fantastic location\", \"convenient location\"]\n",
        "\n",
        "# host\n",
        "host = [\"great host\", \"friendly host\", \"good host\", \"nice host\", \"great communication\"]\n",
        "\n",
        "# stay\n",
        "stay = [\"comfortable\", \"generous\", \"wonderful\", \"accommodate\", \"great time\", \"hospitable\", \"convenient\"]\n",
        "\n",
        "# Recommend\n",
        "recommend = [\"highly recommend\", \"strong recommend\", \"recommend place\", \"would recommend\"]\n",
        "\n",
        "# Room\n",
        "room = [\"clean room\", \"nice room\", \"comfortable place\", \"lovely place\"]"
      ],
      "id": "799a0188",
      "execution_count": null,
      "outputs": []
    },
    {
      "cell_type": "code",
      "metadata": {},
      "source": [
        "#| column: page\n",
        "\n",
        "a_rv = fn.create_bigram(df=a_rv)\n",
        "\n",
        "fig = make_subplots(\n",
        "    rows=2, \n",
        "    cols=2, \n",
        "    specs=[[{\"type\": \"bar\"}, {\"type\": \"bar\"}], [{\"type\": \"bar\"}, {\"type\": \"bar\"}]], \n",
        "    vertical_spacing = 0.15,\n",
        "    subplot_titles=(\"Lodgging Location\", \"Host Attitude\", \"Guest Recommendation\", \"Room Review\")\n",
        ")\n",
        "fig.add_trace(\n",
        "    fn.plot_featured_grams(a_rv, location, \"h\"),\n",
        "    row=1, col=1\n",
        ")\n",
        "fig.add_trace(\n",
        "    fn.plot_featured_grams(a_rv, host, \"h\"),\n",
        "    row=1, col=2\n",
        ")\n",
        "fig.add_trace(\n",
        "    fn.plot_featured_grams(a_rv, recommend, \"h\"),\n",
        "    row=2, col=1\n",
        ")\n",
        "fig.add_trace(\n",
        "    fn.plot_featured_grams(a_rv, room, \"h\"),\n",
        "    row=2, col=2\n",
        ")\n",
        "fig.update_layout(\n",
        "    height=600, \n",
        "    width=1000, \n",
        "    showlegend=False, \n",
        "    title = \"Number Of Reviews Which Include Selected Words\", \n",
        "    template=\"plotly_white\"\n",
        ")\n",
        "\n",
        "fig.show(config = {\"displaylogo\": False,\n",
        "                   \"modeBarButtonsToRemove\": [\"pan2d\", \"lasso2d\", \"zoomIn2d\", \"zoomOut2d\", \"zoom2d\", \"toImage\", \"select2d\", \"autoScale2d\"]\n",
        "                }\n",
        "        )"
      ],
      "id": "5a71a586",
      "execution_count": null,
      "outputs": []
    },
    {
      "cell_type": "markdown",
      "metadata": {},
      "source": [
        "Focusing on positive bigrams in guest review comments, The above plot conveys the number of times each bigram was used to describe location specific features, guest intention to recommend the host to other people, the host personality traits and the accomodation overall tidyness.\n",
        "\n",
        "\n",
        "\n",
        "### Review By Host\n",
        "There are 1,403 unique host in the review data, this is a rather huge number so only a few unique host will be explored."
      ],
      "id": "25183a4b"
    },
    {
      "cell_type": "code",
      "metadata": {},
      "source": [
        "h_rv = fs_rv[[\"host_id\", \"comments\", \"property_type\", \"neg\", \"neu\", \"pos\", \"compound\", \"sentiment\", \"number_char\", \"number_words\"]]\n",
        "\n",
        "not_useful = [\"boston\", \"'s\", \"apartment\", \"n't\", \"stay\", \"room\", \"host\", \"house\", \"would\", \"get\"] + host_names\n",
        "\n",
        "hg_rv = fn.wrangle(df=f_rv, not_useful=not_useful)\n",
        "gp_freq = fn.most_frequent_words(df=hg_rv, top_n=10, group=True, group_col=\"host_id\")"
      ],
      "id": "506d821c",
      "execution_count": null,
      "outputs": []
    },
    {
      "cell_type": "code",
      "metadata": {},
      "source": [
        "# get the host with the highest frequency of words \n",
        "high_freq = gp_freq.groupby(\"host_id\")[\"frequency\"].max().sort_values(ascending=False).index\n",
        "\n",
        "selected_host = list(high_freq[:4])"
      ],
      "id": "90774e6b",
      "execution_count": null,
      "outputs": []
    },
    {
      "cell_type": "markdown",
      "metadata": {},
      "source": [
        "Focusing on hosts with the highest number of frequenctly used words by guests. Also neutral sentiment takes center stage when we talk about the highest type of sentiment expressed by guests.\n"
      ],
      "id": "b1e498e4"
    },
    {
      "cell_type": "code",
      "metadata": {},
      "source": [
        "#| column: body-outset\n",
        "\n",
        "f_h_freq = gp_freq.query(f\"host_id == {selected_host[0]}\").sort_values(by=\"frequency\")\n",
        "f_senti_dis = fn.polarity_count(hg_rv.query(f\"host_id == {selected_host[0]}\")) \n",
        "\n",
        "fn.freq_polarity_plot(f_h_freq, f_senti_dis, f\"Host {selected_host[0]} Review.\", (\"Word Frequency\", \"Sentiment Count\"))"
      ],
      "id": "823017ee",
      "execution_count": null,
      "outputs": []
    },
    {
      "cell_type": "code",
      "metadata": {},
      "source": [
        "#| column: body-outset\n",
        "\n",
        "f_h_freq = gp_freq.query(f\"host_id == {selected_host[1]}\").sort_values(by=\"frequency\")\n",
        "f_senti_dis = fn.polarity_count(hg_rv.query(f\"host_id == {selected_host[1]}\")) \n",
        "\n",
        "fn.freq_polarity_plot(f_h_freq, f_senti_dis, f\"Host {selected_host[1]} Review.\", (\"Word Frequency\", \"Sentiment Count\"))"
      ],
      "id": "3f73dab4",
      "execution_count": null,
      "outputs": []
    },
    {
      "cell_type": "code",
      "metadata": {},
      "source": [
        "#| column: body-outset\n",
        "\n",
        "f_h_freq = gp_freq.query(f\"host_id == {selected_host[2]}\").sort_values(by=\"frequency\")\n",
        "f_senti_dis = fn.polarity_count(h_rv.query(f\"host_id == {selected_host[2]}\")) \n",
        "\n",
        "fn.freq_polarity_plot(f_h_freq, f_senti_dis, f\"Host {selected_host[2]} Review.\", (\"Word Frequency\", \"Sentiment Count\"))"
      ],
      "id": "084d4210",
      "execution_count": null,
      "outputs": []
    },
    {
      "cell_type": "markdown",
      "metadata": {},
      "source": [
        "#### Number of Sentiment score by Host"
      ],
      "id": "bb3c8b97"
    },
    {
      "cell_type": "code",
      "metadata": {},
      "source": [
        "#| column: body-outset\n",
        "\n",
        "average_sent = (\n",
        "    h_rv\n",
        "    .groupby(\"host_id\")[\"sentiment\"]\n",
        "    .value_counts()\n",
        "    .to_frame()\n",
        "    .rename(columns={\"sentiment\": \"count\"})\n",
        "    .reset_index()\n",
        "    .groupby(\"sentiment\")[\"count\"]\n",
        "    .agg([\"min\", \"mean\", \"median\", \"max\"])\n",
        "    .reset_index()\n",
        "    .rename(columns = {\"sentiment\": \"Sentiment\",\n",
        "                       \"min\": \"Minimum\",\n",
        "                       \"mean\": \"Average\",\n",
        "                       \"median\": \"Median\",\n",
        "                       \"max\": \"Maximum\"})\n",
        ")\n",
        "average_sent[\"Average\"] = average_sent[\"Average\"].round(3)\n",
        "average_sent"
      ],
      "id": "d67bbb2e",
      "execution_count": null,
      "outputs": []
    },
    {
      "cell_type": "markdown",
      "metadata": {},
      "source": [
        "The highest number of closely related negative reviews by a host is 10, while for positive reviews is 505. Also the average number of neutral review for all host is 16.1 while 1.57 is the average number of negative review by host.\n",
        "\n",
        "#### Top Host by selected Review Bigrams"
      ],
      "id": "243f68b5"
    },
    {
      "cell_type": "code",
      "metadata": {},
      "source": [
        "h_rv = fn.create_bigram(h_rv)\n",
        "gp_bi_freq = fn.most_frequent_words(h_rv, gram=2, top_n=10, review_variable=\"bi_gram\", group=True, group_col=\"host_id\")\n",
        "host_info = r_df[[\"host_id\", \"host_name\"]]"
      ],
      "id": "cc998f44",
      "execution_count": null,
      "outputs": []
    },
    {
      "cell_type": "code",
      "metadata": {},
      "source": [
        "#| column: page\n",
        "\n",
        "fig = make_subplots(\n",
        "    rows=2, \n",
        "    cols=2, \n",
        "    specs=[[{\"type\": \"scatter\"}, {\"type\": \"scatter\"}], [{\"type\": \"scatter\"}, {\"type\": \"scatter\"}]], \n",
        "    vertical_spacing = 0.08,\n",
        "    subplot_titles=(\"Highly Recommend\", \"Great Location\", \"Great Host\", \"Clean Comfortable\")\n",
        ")\n",
        "fig.add_trace(\n",
        "    fn.host_freq_plot(gp_bi_freq, host_info, \"highly recommend\"),\n",
        "    row=1, col=1\n",
        ")\n",
        "fig.add_trace(\n",
        "    fn.host_freq_plot(gp_bi_freq, host_info, \"great location\"),\n",
        "    row=1, col=2\n",
        ")\n",
        "fig.add_trace(\n",
        "    fn.host_freq_plot(gp_bi_freq, host_info, \"great host\"),\n",
        "    row=2, col=1\n",
        ")\n",
        "fig.add_trace(\n",
        "    fn.host_freq_plot(gp_bi_freq, host_info, \"clean comfortable\"),\n",
        "    row=2, col=2\n",
        ")\n",
        "fig.update_layout(\n",
        "    height=900, \n",
        "    width=1100, \n",
        "    showlegend=False, \n",
        "    title = \"Top 10 Host With The Highest Number of Selectect Bigrams\", \n",
        "    template=\"plotly_white\"\n",
        ")\n",
        "\n",
        "fig.show(config = {\"displaylogo\": False,\n",
        "                    \"modeBarButtonsToRemove\": [\"pan2d\", \"lasso2d\", \"zoomIn2d\", \"zoomOut2d\", \"zoom2d\", \"toImage\", \"select2d\", \"autoScale2d\"]\n",
        "    })"
      ],
      "id": "838d3bfa",
      "execution_count": null,
      "outputs": []
    },
    {
      "cell_type": "markdown",
      "metadata": {},
      "source": [
        "And finally a simple exploration of host with the highest number of guest reviews on how likely they are to recommend the host service, their experience with the place and its environs, the host and also the comfort of the accomodation.\n",
        "\n",
        "\n",
        "### Conclusion\n",
        "Majority of the review where predicted to be neutral in nature where guest did not express any major emotions towards their experience unlike the guest with positive sentiments who express kind of satisfaction and comfortability. There were vary little negative reviews about 193 guests 0.448% of the total guest review.  \n",
        "Based on the analysis majority of the host had very little negative reviews with an average of approximately 2 reviews beign negative.\n"
      ],
      "id": "f9c2fca9"
    }
  ],
  "metadata": {
    "kernelspec": {
      "name": "python3",
      "language": "python",
      "display_name": "Python 3 (ipykernel)"
    }
  },
  "nbformat": 4,
  "nbformat_minor": 5
}